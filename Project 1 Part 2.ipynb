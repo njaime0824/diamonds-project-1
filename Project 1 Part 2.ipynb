{
 "cells": [
  {
   "cell_type": "code",
   "execution_count": 1,
   "id": "42c0ac65-88ee-48e6-8680-30bc3da51c4d",
   "metadata": {},
   "outputs": [],
   "source": [
    "import numpy as np\n",
    "import pickle"
   ]
  },
  {
   "cell_type": "code",
   "execution_count": 2,
   "id": "6a3d8c5c-5a1e-47cd-b305-99cc3266d856",
   "metadata": {},
   "outputs": [],
   "source": [
    "model_linear = \"linear_file\"\n",
    "model_decisiontree = \"decisiontree_file\"\n",
    "model_randomforest = \"randomforest_file\""
   ]
  },
  {
   "cell_type": "code",
   "execution_count": 3,
   "id": "d07f1e5a-ec8e-4653-9d37-c33ec18c5ca6",
   "metadata": {},
   "outputs": [],
   "source": [
    "with open(model_linear, 'rb') as file:\n",
    "    model_linear = pickle.load(file)"
   ]
  },
  {
   "cell_type": "code",
   "execution_count": 4,
   "id": "69816688-4c57-4134-b2cb-f0e367e61866",
   "metadata": {},
   "outputs": [],
   "source": [
    "with open(model_decisiontree, 'rb') as file:\n",
    "    model_decisiontree = pickle.load(file)"
   ]
  },
  {
   "cell_type": "code",
   "execution_count": 5,
   "id": "ecc41248-03b2-4984-bf8f-9d4215617dbf",
   "metadata": {},
   "outputs": [],
   "source": [
    "with open(model_randomforest, 'rb') as file:\n",
    "    model_randomforest = pickle.load(file)"
   ]
  },
  {
   "cell_type": "code",
   "execution_count": 8,
   "id": "d822ebb8-9658-40a6-9400-1545276a0c0c",
   "metadata": {},
   "outputs": [],
   "source": [
    "x = np.zeros((1, 4))"
   ]
  },
  {
   "cell_type": "code",
   "execution_count": 9,
   "id": "ea0813b8-d31e-4c74-8c0c-d373c2f7ba70",
   "metadata": {},
   "outputs": [
    {
     "data": {
      "text/plain": [
       "array([[-1.198168, -1.587837, -1.536196, -1.571129]])"
      ]
     },
     "execution_count": 9,
     "metadata": {},
     "output_type": "execute_result"
    }
   ],
   "source": [
    "x[0, 0] = -1.198168\n",
    "x[0, 1] = -1.587837\n",
    "x[0, 2] = -1.536196\n",
    "x[0, 3] = -1.571129\n",
    "x"
   ]
  },
  {
   "cell_type": "code",
   "execution_count": 12,
   "id": "42fce6b0-b0b1-4b1f-bfca-f6b806224690",
   "metadata": {},
   "outputs": [],
   "source": [
    "features = {'carat': x[0, 0], 'x': x[0, 1], 'y': x[0, 2], 'z': x[0, 3]}"
   ]
  },
  {
   "cell_type": "code",
   "execution_count": 13,
   "id": "42d8cf9c-e811-4a25-b1e6-889f80e604b8",
   "metadata": {},
   "outputs": [
    {
     "name": "stdout",
     "output_type": "stream",
     "text": [
      "The model predicts that the price is 60.73 given these features: \n",
      "{'carat': -1.198168, 'x': -1.587837, 'y': -1.536196, 'z': -1.571129}\n"
     ]
    }
   ],
   "source": [
    "prediction = model_linear.predict(x)\n",
    "print(f'The model predicts that the price is {round(float(prediction[0]), 2)} given these features: \\n{features}')"
   ]
  },
  {
   "cell_type": "code",
   "execution_count": 14,
   "id": "c4172334-bf7c-47f4-a774-f36ab0b5752a",
   "metadata": {},
   "outputs": [],
   "source": [
    "x2 = np.zeros((1, 17))"
   ]
  },
  {
   "cell_type": "code",
   "execution_count": 15,
   "id": "010f3c5e-185e-4261-ae77-0d30e8cfb6b2",
   "metadata": {},
   "outputs": [
    {
     "data": {
      "text/plain": [
       "array([[0., 1., 0., 0., 1., 0., 0., 0., 0., 0., 0., 0., 1., 0., 0., 0.,\n",
       "        0.]])"
      ]
     },
     "execution_count": 15,
     "metadata": {},
     "output_type": "execute_result"
    }
   ],
   "source": [
    "x2[0, 0] = 0\n",
    "x2[0, 1] = 1\n",
    "x2[0, 2] = 0\n",
    "x2[0, 3] = 0\n",
    "x2[0, 4] = 1\n",
    "x2[0, 5] = 0\n",
    "x2[0, 6] = 0\n",
    "x2[0, 7] = 0\n",
    "x2[0, 8] = 0\n",
    "x2[0, 9] = 0\n",
    "x2[0, 10] = 0\n",
    "x2[0, 11] = 0\n",
    "x2[0, 12] = 1\n",
    "x2[0, 13] = 0\n",
    "x2[0, 14] = 0\n",
    "x2[0, 15] = 0\n",
    "x2[0, 16] = 0\n",
    "x2"
   ]
  },
  {
   "cell_type": "code",
   "execution_count": 16,
   "id": "b26a48ae-03b3-484a-a264-eeaeb364348b",
   "metadata": {},
   "outputs": [],
   "source": [
    "features2 = {'cut_Good':x2[0, 0], 'cut_Ideal':x2[0, 1], 'cut_Premium':x2[0, 2], 'cut_Very Good':x2[0, 3], 'color_E':x2[0, 4],\n",
    "       'color_F':x2[0, 5], 'color_G':x2[0, 6], 'color_H':x2[0, 7], 'color_I':x2[0, 8], 'color_J':x2[0, 9], 'clarity_IF':x2[0, 10],\n",
    "       'clarity_SI1':x2[0, 11], 'clarity_SI2':x2[0, 12], 'clarity_VS1':x2[0, 13], 'clarity_VS2':x2[0, 14],\n",
    "       'clarity_VVS1':x2[0, 15], 'clarity_VVS2':x2[0, 16]}"
   ]
  },
  {
   "cell_type": "code",
   "execution_count": 17,
   "id": "41702a3b-85f2-45b4-9bc8-a8332cff3c96",
   "metadata": {},
   "outputs": [
    {
     "name": "stdout",
     "output_type": "stream",
     "text": [
      "The model predicts that the price is 3853.32 given these features: \n",
      "{'cut_Good': 0.0, 'cut_Ideal': 1.0, 'cut_Premium': 0.0, 'cut_Very Good': 0.0, 'color_E': 1.0, 'color_F': 0.0, 'color_G': 0.0, 'color_H': 0.0, 'color_I': 0.0, 'color_J': 0.0, 'clarity_IF': 0.0, 'clarity_SI1': 0.0, 'clarity_SI2': 1.0, 'clarity_VS1': 0.0, 'clarity_VS2': 0.0, 'clarity_VVS1': 0.0, 'clarity_VVS2': 0.0}\n"
     ]
    },
    {
     "name": "stderr",
     "output_type": "stream",
     "text": [
      "/Users/nayelijaime/opt/anaconda3/lib/python3.9/site-packages/sklearn/base.py:450: UserWarning: X does not have valid feature names, but DecisionTreeRegressor was fitted with feature names\n",
      "  warnings.warn(\n"
     ]
    }
   ],
   "source": [
    "#decision tree\n",
    "prediction2 = model_decisiontree.predict(x2)\n",
    "print(f'The model predicts that the price is {round(float(prediction2[0]), 2)} given these features: \\n{features2}')"
   ]
  },
  {
   "cell_type": "code",
   "execution_count": 18,
   "id": "53ed66e7-1a2d-4952-bf66-233d19e66d8c",
   "metadata": {},
   "outputs": [
    {
     "name": "stdout",
     "output_type": "stream",
     "text": [
      "The model predicts that the price is 3824.68 given these features: \n",
      "{'cut_Good': 0.0, 'cut_Ideal': 1.0, 'cut_Premium': 0.0, 'cut_Very Good': 0.0, 'color_E': 1.0, 'color_F': 0.0, 'color_G': 0.0, 'color_H': 0.0, 'color_I': 0.0, 'color_J': 0.0, 'clarity_IF': 0.0, 'clarity_SI1': 0.0, 'clarity_SI2': 1.0, 'clarity_VS1': 0.0, 'clarity_VS2': 0.0, 'clarity_VVS1': 0.0, 'clarity_VVS2': 0.0}\n"
     ]
    },
    {
     "name": "stderr",
     "output_type": "stream",
     "text": [
      "/Users/nayelijaime/opt/anaconda3/lib/python3.9/site-packages/sklearn/base.py:450: UserWarning: X does not have valid feature names, but RandomForestRegressor was fitted with feature names\n",
      "  warnings.warn(\n"
     ]
    }
   ],
   "source": [
    "#random forest\n",
    "prediction3 = model_randomforest.predict(x2)\n",
    "print(f'The model predicts that the price is {round(float(prediction3[0]), 2)} given these features: \\n{features2}')"
   ]
  },
  {
   "cell_type": "code",
   "execution_count": null,
   "id": "2989da77-4340-42ad-b24e-61140b1cc9e6",
   "metadata": {},
   "outputs": [],
   "source": []
  }
 ],
 "metadata": {
  "kernelspec": {
   "display_name": "Python 3 (ipykernel)",
   "language": "python",
   "name": "python3"
  },
  "language_info": {
   "codemirror_mode": {
    "name": "ipython",
    "version": 3
   },
   "file_extension": ".py",
   "mimetype": "text/x-python",
   "name": "python",
   "nbconvert_exporter": "python",
   "pygments_lexer": "ipython3",
   "version": "3.9.12"
  }
 },
 "nbformat": 4,
 "nbformat_minor": 5
}
